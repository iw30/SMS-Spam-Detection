{
  "nbformat": 4,
  "nbformat_minor": 0,
  "metadata": {
    "colab": {
      "name": "SMS.ipynb",
      "provenance": []
    },
    "kernelspec": {
      "name": "python3",
      "display_name": "Python 3"
    },
    "language_info": {
      "name": "python"
    }
  },
  "cells": [
    {
      "cell_type": "code",
      "metadata": {
        "id": "ZJwgXzUT4H1A"
      },
      "source": [
        "# importing important libraries\n",
        "import numpy as np\n",
        "import pandas as pd\n",
        "import nltk\n",
        "import matplotlib.pyplot as plt\n",
        "import seaborn as sns\n",
        "%matplotlib inline"
      ],
      "execution_count": 1,
      "outputs": []
    },
    {
      "cell_type": "markdown",
      "metadata": {
        "id": "vJhBNNH_3Bxf"
      },
      "source": [
        "# **Introduction**"
      ]
    },
    {
      "cell_type": "markdown",
      "metadata": {
        "id": "Izf83yUc3GlP"
      },
      "source": [
        "In this project, I will build a predictive model that will accurately detech which texts are spam. The dataset is obtained from kaggle: https://www.kaggle.com/uciml/sms-spam-collection-dataset?select=spam.csv"
      ]
    },
    {
      "cell_type": "markdown",
      "metadata": {
        "id": "H9RXsSqU3lBx"
      },
      "source": [
        "## **Understanding the data**"
      ]
    },
    {
      "cell_type": "markdown",
      "metadata": {
        "id": "yUlmimro3y6n"
      },
      "source": [
        "The dataset in in csv format and will be uploaded into the notebook:"
      ]
    },
    {
      "cell_type": "code",
      "metadata": {
        "id": "fIjR4qYe2-jK"
      },
      "source": [
        "# Importing the data into the notebook\n",
        "\n",
        "df = pd.read_csv('spam.csv', encoding='latin-1')"
      ],
      "execution_count": 2,
      "outputs": []
    },
    {
      "cell_type": "code",
      "metadata": {
        "colab": {
          "base_uri": "https://localhost:8080/",
          "height": 204
        },
        "id": "UeHU_OyX3Fnn",
        "outputId": "1a606317-a317-44cd-ad68-e233edf62b60"
      },
      "source": [
        "# Displaying the first 5 rows of the dataset\n",
        "\n",
        "df.head()"
      ],
      "execution_count": 3,
      "outputs": [
        {
          "output_type": "execute_result",
          "data": {
            "text/html": [
              "<div>\n",
              "<style scoped>\n",
              "    .dataframe tbody tr th:only-of-type {\n",
              "        vertical-align: middle;\n",
              "    }\n",
              "\n",
              "    .dataframe tbody tr th {\n",
              "        vertical-align: top;\n",
              "    }\n",
              "\n",
              "    .dataframe thead th {\n",
              "        text-align: right;\n",
              "    }\n",
              "</style>\n",
              "<table border=\"1\" class=\"dataframe\">\n",
              "  <thead>\n",
              "    <tr style=\"text-align: right;\">\n",
              "      <th></th>\n",
              "      <th>v1</th>\n",
              "      <th>v2</th>\n",
              "      <th>Unnamed: 2</th>\n",
              "      <th>Unnamed: 3</th>\n",
              "      <th>Unnamed: 4</th>\n",
              "    </tr>\n",
              "  </thead>\n",
              "  <tbody>\n",
              "    <tr>\n",
              "      <th>0</th>\n",
              "      <td>ham</td>\n",
              "      <td>Go until jurong point, crazy.. Available only ...</td>\n",
              "      <td>NaN</td>\n",
              "      <td>NaN</td>\n",
              "      <td>NaN</td>\n",
              "    </tr>\n",
              "    <tr>\n",
              "      <th>1</th>\n",
              "      <td>ham</td>\n",
              "      <td>Ok lar... Joking wif u oni...</td>\n",
              "      <td>NaN</td>\n",
              "      <td>NaN</td>\n",
              "      <td>NaN</td>\n",
              "    </tr>\n",
              "    <tr>\n",
              "      <th>2</th>\n",
              "      <td>spam</td>\n",
              "      <td>Free entry in 2 a wkly comp to win FA Cup fina...</td>\n",
              "      <td>NaN</td>\n",
              "      <td>NaN</td>\n",
              "      <td>NaN</td>\n",
              "    </tr>\n",
              "    <tr>\n",
              "      <th>3</th>\n",
              "      <td>ham</td>\n",
              "      <td>U dun say so early hor... U c already then say...</td>\n",
              "      <td>NaN</td>\n",
              "      <td>NaN</td>\n",
              "      <td>NaN</td>\n",
              "    </tr>\n",
              "    <tr>\n",
              "      <th>4</th>\n",
              "      <td>ham</td>\n",
              "      <td>Nah I don't think he goes to usf, he lives aro...</td>\n",
              "      <td>NaN</td>\n",
              "      <td>NaN</td>\n",
              "      <td>NaN</td>\n",
              "    </tr>\n",
              "  </tbody>\n",
              "</table>\n",
              "</div>"
            ],
            "text/plain": [
              "     v1  ... Unnamed: 4\n",
              "0   ham  ...        NaN\n",
              "1   ham  ...        NaN\n",
              "2  spam  ...        NaN\n",
              "3   ham  ...        NaN\n",
              "4   ham  ...        NaN\n",
              "\n",
              "[5 rows x 5 columns]"
            ]
          },
          "metadata": {
            "tags": []
          },
          "execution_count": 3
        }
      ]
    },
    {
      "cell_type": "code",
      "metadata": {
        "colab": {
          "base_uri": "https://localhost:8080/"
        },
        "id": "mhFO4nJc7i4-",
        "outputId": "da384d0b-8c2c-499e-eb05-4dcb619cac86"
      },
      "source": [
        "df.columns"
      ],
      "execution_count": 4,
      "outputs": [
        {
          "output_type": "execute_result",
          "data": {
            "text/plain": [
              "Index(['v1', 'v2', 'Unnamed: 2', 'Unnamed: 3', 'Unnamed: 4'], dtype='object')"
            ]
          },
          "metadata": {
            "tags": []
          },
          "execution_count": 4
        }
      ]
    },
    {
      "cell_type": "code",
      "metadata": {
        "id": "J5rGTBZT6neN"
      },
      "source": [
        "# Dropping columns\n",
        "\n",
        "df = df.drop(labels = [\"Unnamed: 2\",\"Unnamed: 3\",\"Unnamed: 4\"],axis = 1)"
      ],
      "execution_count": 5,
      "outputs": []
    },
    {
      "cell_type": "code",
      "metadata": {
        "colab": {
          "base_uri": "https://localhost:8080/",
          "height": 204
        },
        "id": "cdyyoi2Q7euU",
        "outputId": "7b8cd840-5498-4bae-8dc5-cf098a13ad40"
      },
      "source": [
        "# First 5 rows of the dataset after dropping \n",
        "\n",
        "df.head()"
      ],
      "execution_count": 6,
      "outputs": [
        {
          "output_type": "execute_result",
          "data": {
            "text/html": [
              "<div>\n",
              "<style scoped>\n",
              "    .dataframe tbody tr th:only-of-type {\n",
              "        vertical-align: middle;\n",
              "    }\n",
              "\n",
              "    .dataframe tbody tr th {\n",
              "        vertical-align: top;\n",
              "    }\n",
              "\n",
              "    .dataframe thead th {\n",
              "        text-align: right;\n",
              "    }\n",
              "</style>\n",
              "<table border=\"1\" class=\"dataframe\">\n",
              "  <thead>\n",
              "    <tr style=\"text-align: right;\">\n",
              "      <th></th>\n",
              "      <th>v1</th>\n",
              "      <th>v2</th>\n",
              "    </tr>\n",
              "  </thead>\n",
              "  <tbody>\n",
              "    <tr>\n",
              "      <th>0</th>\n",
              "      <td>ham</td>\n",
              "      <td>Go until jurong point, crazy.. Available only ...</td>\n",
              "    </tr>\n",
              "    <tr>\n",
              "      <th>1</th>\n",
              "      <td>ham</td>\n",
              "      <td>Ok lar... Joking wif u oni...</td>\n",
              "    </tr>\n",
              "    <tr>\n",
              "      <th>2</th>\n",
              "      <td>spam</td>\n",
              "      <td>Free entry in 2 a wkly comp to win FA Cup fina...</td>\n",
              "    </tr>\n",
              "    <tr>\n",
              "      <th>3</th>\n",
              "      <td>ham</td>\n",
              "      <td>U dun say so early hor... U c already then say...</td>\n",
              "    </tr>\n",
              "    <tr>\n",
              "      <th>4</th>\n",
              "      <td>ham</td>\n",
              "      <td>Nah I don't think he goes to usf, he lives aro...</td>\n",
              "    </tr>\n",
              "  </tbody>\n",
              "</table>\n",
              "</div>"
            ],
            "text/plain": [
              "     v1                                                 v2\n",
              "0   ham  Go until jurong point, crazy.. Available only ...\n",
              "1   ham                      Ok lar... Joking wif u oni...\n",
              "2  spam  Free entry in 2 a wkly comp to win FA Cup fina...\n",
              "3   ham  U dun say so early hor... U c already then say...\n",
              "4   ham  Nah I don't think he goes to usf, he lives aro..."
            ]
          },
          "metadata": {
            "tags": []
          },
          "execution_count": 6
        }
      ]
    },
    {
      "cell_type": "code",
      "metadata": {
        "colab": {
          "base_uri": "https://localhost:8080/"
        },
        "id": "nBWeYcYp7o_S",
        "outputId": "99bd6ea9-0afe-45d6-b139-fbcf0ed48c4d"
      },
      "source": [
        "print(\"Number of rows in the dataset:\",df.shape[0])\n",
        "print(\"Number of columns in the dataset:\", df.shape[1])"
      ],
      "execution_count": 7,
      "outputs": [
        {
          "output_type": "stream",
          "text": [
            "Number of rows in the dataset: 5572\n",
            "Number of columns in the dataset: 2\n"
          ],
          "name": "stdout"
        }
      ]
    },
    {
      "cell_type": "code",
      "metadata": {
        "colab": {
          "base_uri": "https://localhost:8080/",
          "height": 204
        },
        "id": "eDcYFh487vQz",
        "outputId": "a97ca81c-2292-4ac8-b68b-43e943b3c4d1"
      },
      "source": [
        "# Renaming the column\n",
        "\n",
        "df = df.rename(columns={\"v1\":\"Spam\",\"v2\":\"Text\"})\n",
        "df.head()"
      ],
      "execution_count": 8,
      "outputs": [
        {
          "output_type": "execute_result",
          "data": {
            "text/html": [
              "<div>\n",
              "<style scoped>\n",
              "    .dataframe tbody tr th:only-of-type {\n",
              "        vertical-align: middle;\n",
              "    }\n",
              "\n",
              "    .dataframe tbody tr th {\n",
              "        vertical-align: top;\n",
              "    }\n",
              "\n",
              "    .dataframe thead th {\n",
              "        text-align: right;\n",
              "    }\n",
              "</style>\n",
              "<table border=\"1\" class=\"dataframe\">\n",
              "  <thead>\n",
              "    <tr style=\"text-align: right;\">\n",
              "      <th></th>\n",
              "      <th>Spam</th>\n",
              "      <th>Text</th>\n",
              "    </tr>\n",
              "  </thead>\n",
              "  <tbody>\n",
              "    <tr>\n",
              "      <th>0</th>\n",
              "      <td>ham</td>\n",
              "      <td>Go until jurong point, crazy.. Available only ...</td>\n",
              "    </tr>\n",
              "    <tr>\n",
              "      <th>1</th>\n",
              "      <td>ham</td>\n",
              "      <td>Ok lar... Joking wif u oni...</td>\n",
              "    </tr>\n",
              "    <tr>\n",
              "      <th>2</th>\n",
              "      <td>spam</td>\n",
              "      <td>Free entry in 2 a wkly comp to win FA Cup fina...</td>\n",
              "    </tr>\n",
              "    <tr>\n",
              "      <th>3</th>\n",
              "      <td>ham</td>\n",
              "      <td>U dun say so early hor... U c already then say...</td>\n",
              "    </tr>\n",
              "    <tr>\n",
              "      <th>4</th>\n",
              "      <td>ham</td>\n",
              "      <td>Nah I don't think he goes to usf, he lives aro...</td>\n",
              "    </tr>\n",
              "  </tbody>\n",
              "</table>\n",
              "</div>"
            ],
            "text/plain": [
              "   Spam                                               Text\n",
              "0   ham  Go until jurong point, crazy.. Available only ...\n",
              "1   ham                      Ok lar... Joking wif u oni...\n",
              "2  spam  Free entry in 2 a wkly comp to win FA Cup fina...\n",
              "3   ham  U dun say so early hor... U c already then say...\n",
              "4   ham  Nah I don't think he goes to usf, he lives aro..."
            ]
          },
          "metadata": {
            "tags": []
          },
          "execution_count": 8
        }
      ]
    },
    {
      "cell_type": "code",
      "metadata": {
        "colab": {
          "base_uri": "https://localhost:8080/",
          "height": 204
        },
        "id": "cHXgSnhE8NTj",
        "outputId": "aeb18d2d-054f-495f-805d-3022974ca2e7"
      },
      "source": [
        "# Changing the Spam column into 0 and 1\n",
        "# 0: ham\n",
        "# 1: Spam\n",
        "\n",
        "df = df.replace({'ham':0,'spam':1})\n",
        "df.head()"
      ],
      "execution_count": 9,
      "outputs": [
        {
          "output_type": "execute_result",
          "data": {
            "text/html": [
              "<div>\n",
              "<style scoped>\n",
              "    .dataframe tbody tr th:only-of-type {\n",
              "        vertical-align: middle;\n",
              "    }\n",
              "\n",
              "    .dataframe tbody tr th {\n",
              "        vertical-align: top;\n",
              "    }\n",
              "\n",
              "    .dataframe thead th {\n",
              "        text-align: right;\n",
              "    }\n",
              "</style>\n",
              "<table border=\"1\" class=\"dataframe\">\n",
              "  <thead>\n",
              "    <tr style=\"text-align: right;\">\n",
              "      <th></th>\n",
              "      <th>Spam</th>\n",
              "      <th>Text</th>\n",
              "    </tr>\n",
              "  </thead>\n",
              "  <tbody>\n",
              "    <tr>\n",
              "      <th>0</th>\n",
              "      <td>0</td>\n",
              "      <td>Go until jurong point, crazy.. Available only ...</td>\n",
              "    </tr>\n",
              "    <tr>\n",
              "      <th>1</th>\n",
              "      <td>0</td>\n",
              "      <td>Ok lar... Joking wif u oni...</td>\n",
              "    </tr>\n",
              "    <tr>\n",
              "      <th>2</th>\n",
              "      <td>1</td>\n",
              "      <td>Free entry in 2 a wkly comp to win FA Cup fina...</td>\n",
              "    </tr>\n",
              "    <tr>\n",
              "      <th>3</th>\n",
              "      <td>0</td>\n",
              "      <td>U dun say so early hor... U c already then say...</td>\n",
              "    </tr>\n",
              "    <tr>\n",
              "      <th>4</th>\n",
              "      <td>0</td>\n",
              "      <td>Nah I don't think he goes to usf, he lives aro...</td>\n",
              "    </tr>\n",
              "  </tbody>\n",
              "</table>\n",
              "</div>"
            ],
            "text/plain": [
              "   Spam                                               Text\n",
              "0     0  Go until jurong point, crazy.. Available only ...\n",
              "1     0                      Ok lar... Joking wif u oni...\n",
              "2     1  Free entry in 2 a wkly comp to win FA Cup fina...\n",
              "3     0  U dun say so early hor... U c already then say...\n",
              "4     0  Nah I don't think he goes to usf, he lives aro..."
            ]
          },
          "metadata": {
            "tags": []
          },
          "execution_count": 9
        }
      ]
    },
    {
      "cell_type": "code",
      "metadata": {
        "colab": {
          "base_uri": "https://localhost:8080/",
          "height": 35
        },
        "id": "BA72WOaU87ag",
        "outputId": "cfa44439-fde3-4c48-8661-f65cc99fb624"
      },
      "source": [
        "# Displaying the text from the first ham message\n",
        "\n",
        "df['Text'].iloc[0]"
      ],
      "execution_count": 10,
      "outputs": [
        {
          "output_type": "execute_result",
          "data": {
            "application/vnd.google.colaboratory.intrinsic+json": {
              "type": "string"
            },
            "text/plain": [
              "'Go until jurong point, crazy.. Available only in bugis n great world la e buffet... Cine there got amore wat...'"
            ]
          },
          "metadata": {
            "tags": []
          },
          "execution_count": 10
        }
      ]
    },
    {
      "cell_type": "code",
      "metadata": {
        "colab": {
          "base_uri": "https://localhost:8080/",
          "height": 52
        },
        "id": "d7tT-MVu-Gtm",
        "outputId": "bfb76dc7-ec8d-44cd-daf0-d7130dab90e4"
      },
      "source": [
        "# Displaying the text from the first spam message\n",
        "\n",
        "df[df['Spam']==1]['Text'].iloc[0]"
      ],
      "execution_count": 11,
      "outputs": [
        {
          "output_type": "execute_result",
          "data": {
            "application/vnd.google.colaboratory.intrinsic+json": {
              "type": "string"
            },
            "text/plain": [
              "\"Free entry in 2 a wkly comp to win FA Cup final tkts 21st May 2005. Text FA to 87121 to receive entry question(std txt rate)T&C's apply 08452810075over18's\""
            ]
          },
          "metadata": {
            "tags": []
          },
          "execution_count": 11
        }
      ]
    },
    {
      "cell_type": "code",
      "metadata": {
        "colab": {
          "base_uri": "https://localhost:8080/"
        },
        "id": "9RtE7N169Xko",
        "outputId": "4caa64d6-c005-4a59-c13c-f20a7b0017bd"
      },
      "source": [
        "# Number of ham and spam messages in the dataset\n",
        "\n",
        "print(\"Number of ham messages in the dataset:\",df.groupby('Spam').size()[0])\n",
        "print(\"Number of spam messages in the dataset:\", df.groupby('Spam').size()[1])"
      ],
      "execution_count": 12,
      "outputs": [
        {
          "output_type": "stream",
          "text": [
            "Number of ham messages in the dataset: 4825\n",
            "Number of spam messages in the dataset: 747\n"
          ],
          "name": "stdout"
        }
      ]
    },
    {
      "cell_type": "code",
      "metadata": {
        "colab": {
          "base_uri": "https://localhost:8080/"
        },
        "id": "18lzYHtg9tJS",
        "outputId": "4e350b65-81f1-43ee-9a2c-b2462f4db4d9"
      },
      "source": [
        "# Checking whether there is empty data in the dataset\n",
        "# No empty data in the dataset\n",
        "\n",
        "df.isna().sum()"
      ],
      "execution_count": 13,
      "outputs": [
        {
          "output_type": "execute_result",
          "data": {
            "text/plain": [
              "Spam    0\n",
              "Text    0\n",
              "dtype: int64"
            ]
          },
          "metadata": {
            "tags": []
          },
          "execution_count": 13
        }
      ]
    },
    {
      "cell_type": "markdown",
      "metadata": {
        "id": "h8znYRr7MSrq"
      },
      "source": [
        "# **Splitting the dataset**"
      ]
    },
    {
      "cell_type": "markdown",
      "metadata": {
        "id": "oXVqqnSiMWCl"
      },
      "source": [
        "Before going further into the analysis, let us split our dataset into training set and test set. <code> train_data </code> is stored for future text analysis."
      ]
    },
    {
      "cell_type": "code",
      "metadata": {
        "id": "SI0COAfRMQ0P"
      },
      "source": [
        "X = df.iloc[:,1:]\n",
        "y = df.iloc[:,0]"
      ],
      "execution_count": 14,
      "outputs": []
    },
    {
      "cell_type": "code",
      "metadata": {
        "id": "nYg66zAXM_5i",
        "colab": {
          "base_uri": "https://localhost:8080/",
          "height": 204
        },
        "outputId": "cd973190-1796-4a8d-96d1-7d99e3939dd2"
      },
      "source": [
        "from sklearn.model_selection import train_test_split\n",
        "\n",
        "# Random state is for reproducibility purposes\n",
        "X_train, X_test, y_train, y_test = train_test_split(\n",
        "    X, y, test_size=0.2, random_state=42)\n",
        "\n",
        "train_data = pd.concat([X_train,y_train], axis = 1)\n",
        "train_data.head()"
      ],
      "execution_count": 15,
      "outputs": [
        {
          "output_type": "execute_result",
          "data": {
            "text/html": [
              "<div>\n",
              "<style scoped>\n",
              "    .dataframe tbody tr th:only-of-type {\n",
              "        vertical-align: middle;\n",
              "    }\n",
              "\n",
              "    .dataframe tbody tr th {\n",
              "        vertical-align: top;\n",
              "    }\n",
              "\n",
              "    .dataframe thead th {\n",
              "        text-align: right;\n",
              "    }\n",
              "</style>\n",
              "<table border=\"1\" class=\"dataframe\">\n",
              "  <thead>\n",
              "    <tr style=\"text-align: right;\">\n",
              "      <th></th>\n",
              "      <th>Text</th>\n",
              "      <th>Spam</th>\n",
              "    </tr>\n",
              "  </thead>\n",
              "  <tbody>\n",
              "    <tr>\n",
              "      <th>1978</th>\n",
              "      <td>No I'm in the same boat. Still here at my moms...</td>\n",
              "      <td>0</td>\n",
              "    </tr>\n",
              "    <tr>\n",
              "      <th>3989</th>\n",
              "      <td>(Bank of Granite issues Strong-Buy) EXPLOSIVE ...</td>\n",
              "      <td>1</td>\n",
              "    </tr>\n",
              "    <tr>\n",
              "      <th>3935</th>\n",
              "      <td>They r giving a second chance to rahul dengra.</td>\n",
              "      <td>0</td>\n",
              "    </tr>\n",
              "    <tr>\n",
              "      <th>4078</th>\n",
              "      <td>O i played smash bros  &amp;lt;#&amp;gt;  religiously.</td>\n",
              "      <td>0</td>\n",
              "    </tr>\n",
              "    <tr>\n",
              "      <th>4086</th>\n",
              "      <td>PRIVATE! Your 2003 Account Statement for 07973...</td>\n",
              "      <td>1</td>\n",
              "    </tr>\n",
              "  </tbody>\n",
              "</table>\n",
              "</div>"
            ],
            "text/plain": [
              "                                                   Text  Spam\n",
              "1978  No I'm in the same boat. Still here at my moms...     0\n",
              "3989  (Bank of Granite issues Strong-Buy) EXPLOSIVE ...     1\n",
              "3935     They r giving a second chance to rahul dengra.     0\n",
              "4078     O i played smash bros  &lt;#&gt;  religiously.     0\n",
              "4086  PRIVATE! Your 2003 Account Statement for 07973...     1"
            ]
          },
          "metadata": {
            "tags": []
          },
          "execution_count": 15
        }
      ]
    },
    {
      "cell_type": "markdown",
      "metadata": {
        "id": "ZXREfoPY__9S"
      },
      "source": [
        "## **Understanding the text**"
      ]
    },
    {
      "cell_type": "markdown",
      "metadata": {
        "id": "1VpFa0QONN1G"
      },
      "source": [
        "For this section, I will be using the training sets to understand the text better. "
      ]
    },
    {
      "cell_type": "markdown",
      "metadata": {
        "id": "eEYHExgPsLAx"
      },
      "source": [
        "### Text Length"
      ]
    },
    {
      "cell_type": "markdown",
      "metadata": {
        "id": "c1RK7qOFAEPQ"
      },
      "source": [
        "Now that we already understand the dataset, we can start model the data. I will try to explore the text deeper to further differentiate between ham email text and spam text."
      ]
    },
    {
      "cell_type": "markdown",
      "metadata": {
        "id": "LKgGKN7HBbgG"
      },
      "source": [
        "First, I will make a visualization to whether the length of the text differentiate ham and spam message."
      ]
    },
    {
      "cell_type": "code",
      "metadata": {
        "colab": {
          "base_uri": "https://localhost:8080/",
          "height": 204
        },
        "id": "GcerRHoIBLMj",
        "outputId": "d7b58a24-ec39-45b2-82eb-2c16e8550568"
      },
      "source": [
        "# Length column describing the length of the text message\n",
        "\n",
        "train_data['Length'] = train_data['Text'].str.len()\n",
        "train_data.head()"
      ],
      "execution_count": 16,
      "outputs": [
        {
          "output_type": "execute_result",
          "data": {
            "text/html": [
              "<div>\n",
              "<style scoped>\n",
              "    .dataframe tbody tr th:only-of-type {\n",
              "        vertical-align: middle;\n",
              "    }\n",
              "\n",
              "    .dataframe tbody tr th {\n",
              "        vertical-align: top;\n",
              "    }\n",
              "\n",
              "    .dataframe thead th {\n",
              "        text-align: right;\n",
              "    }\n",
              "</style>\n",
              "<table border=\"1\" class=\"dataframe\">\n",
              "  <thead>\n",
              "    <tr style=\"text-align: right;\">\n",
              "      <th></th>\n",
              "      <th>Text</th>\n",
              "      <th>Spam</th>\n",
              "      <th>Length</th>\n",
              "    </tr>\n",
              "  </thead>\n",
              "  <tbody>\n",
              "    <tr>\n",
              "      <th>1978</th>\n",
              "      <td>No I'm in the same boat. Still here at my moms...</td>\n",
              "      <td>0</td>\n",
              "      <td>83</td>\n",
              "    </tr>\n",
              "    <tr>\n",
              "      <th>3989</th>\n",
              "      <td>(Bank of Granite issues Strong-Buy) EXPLOSIVE ...</td>\n",
              "      <td>1</td>\n",
              "      <td>137</td>\n",
              "    </tr>\n",
              "    <tr>\n",
              "      <th>3935</th>\n",
              "      <td>They r giving a second chance to rahul dengra.</td>\n",
              "      <td>0</td>\n",
              "      <td>46</td>\n",
              "    </tr>\n",
              "    <tr>\n",
              "      <th>4078</th>\n",
              "      <td>O i played smash bros  &amp;lt;#&amp;gt;  religiously.</td>\n",
              "      <td>0</td>\n",
              "      <td>46</td>\n",
              "    </tr>\n",
              "    <tr>\n",
              "      <th>4086</th>\n",
              "      <td>PRIVATE! Your 2003 Account Statement for 07973...</td>\n",
              "      <td>1</td>\n",
              "      <td>148</td>\n",
              "    </tr>\n",
              "  </tbody>\n",
              "</table>\n",
              "</div>"
            ],
            "text/plain": [
              "                                                   Text  Spam  Length\n",
              "1978  No I'm in the same boat. Still here at my moms...     0      83\n",
              "3989  (Bank of Granite issues Strong-Buy) EXPLOSIVE ...     1     137\n",
              "3935     They r giving a second chance to rahul dengra.     0      46\n",
              "4078     O i played smash bros  &lt;#&gt;  religiously.     0      46\n",
              "4086  PRIVATE! Your 2003 Account Statement for 07973...     1     148"
            ]
          },
          "metadata": {
            "tags": []
          },
          "execution_count": 16
        }
      ]
    },
    {
      "cell_type": "markdown",
      "metadata": {
        "id": "Z-U4f3z3B5AJ"
      },
      "source": [
        "I will plot overlaid histogram to visualize the length of the text in ham and spam message. Then, I will use describe the statistic in ham and spam message."
      ]
    },
    {
      "cell_type": "code",
      "metadata": {
        "id": "ArbGsGKUB2an"
      },
      "source": [
        "X_train_ham_length = train_data[train_data['Spam']==0]['Length']\n",
        "X_train_spam_length = train_data[train_data['Spam']==1]['Length']"
      ],
      "execution_count": 17,
      "outputs": []
    },
    {
      "cell_type": "code",
      "metadata": {
        "colab": {
          "base_uri": "https://localhost:8080/",
          "height": 408
        },
        "id": "LpGtQj4lCocj",
        "outputId": "7446aa0e-b85c-4483-9fce-664153fc048e"
      },
      "source": [
        "plt.figure(figsize=(8,6))\n",
        "plt.hist(X_train_ham_length, bins=20, alpha=0.5, label=\"ham\", density = True)\n",
        "plt.hist(X_train_spam_length, bins=20, alpha=0.5, label=\"spam\", density = True)\n",
        "\n",
        "\n",
        "plt.xlim([0,400])\n",
        "plt.xlabel('Data',size = 14)\n",
        "plt.ylabel('Density',size = 14)\n",
        "plt.title('Length of the ham and spam message distribution')\n",
        "plt.legend()\n",
        "plt.show();"
      ],
      "execution_count": 18,
      "outputs": [
        {
          "output_type": "display_data",
          "data": {
            "image/png": "[encoded data removed]",
            "text/plain": [
              "<Figure size 576x432 with 1 Axes>"
            ]
          },
          "metadata": {
            "tags": [],
            "needs_background": "light"
          }
        }
      ]
    },
    {
      "cell_type": "code",
      "metadata": {
        "colab": {
          "base_uri": "https://localhost:8080/"
        },
        "id": "5tzEGghpDVpz",
        "outputId": "5ef42fd9-cff9-4c54-b14c-b40fe475918e"
      },
      "source": [
        "# Further description on the ham length dataset\n",
        "\n",
        "print(X_train_ham_length.describe())"
      ],
      "execution_count": 19,
      "outputs": [
        {
          "output_type": "stream",
          "text": [
            "count    3860.000000\n",
            "mean       70.588342\n",
            "std        55.674169\n",
            "min         2.000000\n",
            "25%        33.000000\n",
            "50%        52.000000\n",
            "75%        91.250000\n",
            "max       632.000000\n",
            "Name: Length, dtype: float64\n"
          ],
          "name": "stdout"
        }
      ]
    },
    {
      "cell_type": "code",
      "metadata": {
        "colab": {
          "base_uri": "https://localhost:8080/"
        },
        "id": "50H3V1V-Du9r",
        "outputId": "951586db-aff5-4da9-84ee-d966f7ec7007"
      },
      "source": [
        "# Further description on the spam length dataset\n",
        "\n",
        "print(X_train_spam_length.describe())"
      ],
      "execution_count": 20,
      "outputs": [
        {
          "output_type": "stream",
          "text": [
            "count    597.000000\n",
            "mean     139.206030\n",
            "std       29.024974\n",
            "min       25.000000\n",
            "25%      134.000000\n",
            "50%      150.000000\n",
            "75%      158.000000\n",
            "max      224.000000\n",
            "Name: Length, dtype: float64\n"
          ],
          "name": "stdout"
        }
      ]
    },
    {
      "cell_type": "markdown",
      "metadata": {
        "id": "YGTo5jehbtUF"
      },
      "source": [
        "From the histogram and statistic table, we can see that overall the length of spam message is bigger than the length of ham message."
      ]
    },
    {
      "cell_type": "markdown",
      "metadata": {
        "id": "syVC3PiLZu2x"
      },
      "source": [
        "To verify my findings, I will use two sample unpaired z-test to see whether the length of ham message is overall bigger or smaller than the length of spam message. I use the significance level of 0.10. "
      ]
    },
    {
      "cell_type": "code",
      "metadata": {
        "id": "fhfwrArFbdUq"
      },
      "source": [
        "from scipy.stats import norm"
      ],
      "execution_count": 21,
      "outputs": []
    },
    {
      "cell_type": "code",
      "metadata": {
        "id": "fFgGEFjfDw_V"
      },
      "source": [
        "# Input: compare (0=\">\", 1=\"<\")\n",
        "# Output: \"False\" means Hypothesis rejected, \"True\" means Hypothesis accepted\n",
        "def z_test(compare,ham_desc,spam_desc):\n",
        "  if compare==0: # ham > spam\n",
        "    x=(ham_desc.describe()[1]-spam_desc.describe()[1])/((((ham_desc.describe()[2]**2)/4825)+(((spam_desc.describe()[2])**2)/747)))**0.5\n",
        "    p=norm.cdf(x)>0.10\n",
        "    display(p)\n",
        "  if compare==1: # ham < spam\n",
        "    x=(ham_desc.describe()[1]-spam_desc.describe()[1])/((((ham_desc.describe()[2]**2)/4825)+(((spam_desc.describe()[2])**2)/747)))**0.5\n",
        "    p=(1-norm.cdf(x))>0.10\n",
        "    display(p)"
      ],
      "execution_count": 22,
      "outputs": []
    },
    {
      "cell_type": "code",
      "metadata": {
        "colab": {
          "base_uri": "https://localhost:8080/",
          "height": 34
        },
        "id": "T8SmpqmsaGwW",
        "outputId": "73692462-da5a-4e74-ca9b-6ac477dcf81f"
      },
      "source": [
        "# Testing whether overall length of ham message < length of spam message\n",
        "\n",
        "z_test(1,X_train_ham_length,X_train_spam_length)"
      ],
      "execution_count": 23,
      "outputs": [
        {
          "output_type": "display_data",
          "data": {
            "text/plain": [
              "True"
            ]
          },
          "metadata": {
            "tags": []
          }
        }
      ]
    },
    {
      "cell_type": "markdown",
      "metadata": {
        "id": "XxyQjxzEblWx"
      },
      "source": [
        "This means that the length of ham message is generally smaller than the length of spam message\n",
        "."
      ]
    },
    {
      "cell_type": "markdown",
      "metadata": {
        "id": "jNa1i1plsRTA"
      },
      "source": [
        "### Total Punctuation"
      ]
    },
    {
      "cell_type": "markdown",
      "metadata": {
        "id": "k_FDQ0BJcuq-"
      },
      "source": [
        "Now, I will analyze the use of punctuation on both ham and spam message, and try to compare the use of punctuation on both messages."
      ]
    },
    {
      "cell_type": "code",
      "metadata": {
        "colab": {
          "base_uri": "https://localhost:8080/"
        },
        "id": "h2ZbG9PMc-8E",
        "outputId": "240ae8d7-71cf-46c9-ef13-117ce119a5a2"
      },
      "source": [
        "train_data[train_data['Spam']==0]['Text']"
      ],
      "execution_count": 24,
      "outputs": [
        {
          "output_type": "execute_result",
          "data": {
            "text/plain": [
              "1978    No I'm in the same boat. Still here at my moms...\n",
              "3935       They r giving a second chance to rahul dengra.\n",
              "4078       O i played smash bros  &lt;#&gt;  religiously.\n",
              "4919     G says you never answer your texts, confirm/deny\n",
              "4696    Okey dokey, iÛ÷ll be over in a bit just sorti...\n",
              "                              ...                        \n",
              "3772    I came hostel. I m going to sleep. Plz call me...\n",
              "5191                               Sorry, I'll call later\n",
              "5226        Prabha..i'm soryda..realy..frm heart i'm sory\n",
              "5390                           Nt joking seriously i told\n",
              "860                   In work now. Going have in few min.\n",
              "Name: Text, Length: 3860, dtype: object"
            ]
          },
          "metadata": {
            "tags": []
          },
          "execution_count": 24
        }
      ]
    },
    {
      "cell_type": "code",
      "metadata": {
        "id": "6mx7vDIZfV-j"
      },
      "source": [
        "def split(word):\n",
        "    return [char for char in word]"
      ],
      "execution_count": 25,
      "outputs": []
    },
    {
      "cell_type": "code",
      "metadata": {
        "id": "eY17eyhFbT9O"
      },
      "source": [
        "# List of punctuation\n",
        "\n",
        "import string\n",
        "list_punctuation = np.array(split(string.punctuation))"
      ],
      "execution_count": 26,
      "outputs": []
    },
    {
      "cell_type": "code",
      "metadata": {
        "id": "xrxUhP1rdiOw"
      },
      "source": [
        "# Counting how many punctuations on each text\n",
        "\n",
        "for i in range(len(list_punctuation)):\n",
        "  train_data[list_punctuation[i]] = train_data['Text'].str.count(\"\\\\\"+list_punctuation[i])"
      ],
      "execution_count": 27,
      "outputs": []
    },
    {
      "cell_type": "code",
      "metadata": {
        "colab": {
          "base_uri": "https://localhost:8080/",
          "height": 97
        },
        "id": "zSCAcxXJh7TJ",
        "outputId": "2d6a4d1b-cb68-4a3c-c198-cb0f760aead2"
      },
      "source": [
        "# Displaying the dataframe after counting each punctuations\n",
        "\n",
        "train_data.head(1)"
      ],
      "execution_count": 28,
      "outputs": [
        {
          "output_type": "execute_result",
          "data": {
            "text/html": [
              "<div>\n",
              "<style scoped>\n",
              "    .dataframe tbody tr th:only-of-type {\n",
              "        vertical-align: middle;\n",
              "    }\n",
              "\n",
              "    .dataframe tbody tr th {\n",
              "        vertical-align: top;\n",
              "    }\n",
              "\n",
              "    .dataframe thead th {\n",
              "        text-align: right;\n",
              "    }\n",
              "</style>\n",
              "<table border=\"1\" class=\"dataframe\">\n",
              "  <thead>\n",
              "    <tr style=\"text-align: right;\">\n",
              "      <th></th>\n",
              "      <th>Text</th>\n",
              "      <th>Spam</th>\n",
              "      <th>Length</th>\n",
              "      <th>!</th>\n",
              "      <th>\"</th>\n",
              "      <th>#</th>\n",
              "      <th>$</th>\n",
              "      <th>%</th>\n",
              "      <th>&amp;</th>\n",
              "      <th>'</th>\n",
              "      <th>(</th>\n",
              "      <th>)</th>\n",
              "      <th>*</th>\n",
              "      <th>+</th>\n",
              "      <th>,</th>\n",
              "      <th>-</th>\n",
              "      <th>.</th>\n",
              "      <th>/</th>\n",
              "      <th>:</th>\n",
              "      <th>;</th>\n",
              "      <th>&lt;</th>\n",
              "      <th>=</th>\n",
              "      <th>&gt;</th>\n",
              "      <th>?</th>\n",
              "      <th>@</th>\n",
              "      <th>[</th>\n",
              "      <th>\\</th>\n",
              "      <th>]</th>\n",
              "      <th>^</th>\n",
              "      <th>_</th>\n",
              "      <th>`</th>\n",
              "      <th>{</th>\n",
              "      <th>|</th>\n",
              "      <th>}</th>\n",
              "      <th>~</th>\n",
              "    </tr>\n",
              "  </thead>\n",
              "  <tbody>\n",
              "    <tr>\n",
              "      <th>1978</th>\n",
              "      <td>No I'm in the same boat. Still here at my moms...</td>\n",
              "      <td>0</td>\n",
              "      <td>83</td>\n",
              "      <td>0</td>\n",
              "      <td>0</td>\n",
              "      <td>0</td>\n",
              "      <td>0</td>\n",
              "      <td>0</td>\n",
              "      <td>0</td>\n",
              "      <td>2</td>\n",
              "      <td>0</td>\n",
              "      <td>0</td>\n",
              "      <td>0</td>\n",
              "      <td>0</td>\n",
              "      <td>0</td>\n",
              "      <td>0</td>\n",
              "      <td>4</td>\n",
              "      <td>0</td>\n",
              "      <td>0</td>\n",
              "      <td>0</td>\n",
              "      <td>0</td>\n",
              "      <td>0</td>\n",
              "      <td>0</td>\n",
              "      <td>0</td>\n",
              "      <td>0</td>\n",
              "      <td>0</td>\n",
              "      <td>0</td>\n",
              "      <td>0</td>\n",
              "      <td>0</td>\n",
              "      <td>0</td>\n",
              "      <td>0</td>\n",
              "      <td>0</td>\n",
              "      <td>0</td>\n",
              "      <td>0</td>\n",
              "      <td>0</td>\n",
              "    </tr>\n",
              "  </tbody>\n",
              "</table>\n",
              "</div>"
            ],
            "text/plain": [
              "                                                   Text  Spam  Length  ...  |  }  ~\n",
              "1978  No I'm in the same boat. Still here at my moms...     0      83  ...  0  0  0\n",
              "\n",
              "[1 rows x 35 columns]"
            ]
          },
          "metadata": {
            "tags": []
          },
          "execution_count": 28
        }
      ]
    },
    {
      "cell_type": "markdown",
      "metadata": {
        "id": "NcvXw3JekpQL"
      },
      "source": [
        "I want to visualize how the number of punctuations in ham and spam messages differ. I will plot using the overlaid histogram and uses the same process as before."
      ]
    },
    {
      "cell_type": "code",
      "metadata": {
        "colab": {
          "base_uri": "https://localhost:8080/",
          "height": 204
        },
        "id": "Kg8C1OqEjkvQ",
        "outputId": "722cc2f2-7c01-49bb-fdfe-5020a882574b"
      },
      "source": [
        "# Constructing dataframe of total number of punctuations on each text\n",
        "\n",
        "punctuation_array = train_data.iloc[:,3:].to_numpy()\n",
        "punctuation_array_sum = []\n",
        "\n",
        "for i in range(len(punctuation_array)):\n",
        "  punc_array = sum(punctuation_array[i])\n",
        "  punctuation_array_sum = np.append(punctuation_array_sum,punc_array)\n",
        "\n",
        "df_punc = pd.DataFrame(data = [train_data['Spam'],punctuation_array_sum]).T\n",
        "df_punc = df_punc.rename(columns = {\"Unnamed 0\":\"Total Punctuations\"})\n",
        "df_punc.head()"
      ],
      "execution_count": 29,
      "outputs": [
        {
          "output_type": "execute_result",
          "data": {
            "text/html": [
              "<div>\n",
              "<style scoped>\n",
              "    .dataframe tbody tr th:only-of-type {\n",
              "        vertical-align: middle;\n",
              "    }\n",
              "\n",
              "    .dataframe tbody tr th {\n",
              "        vertical-align: top;\n",
              "    }\n",
              "\n",
              "    .dataframe thead th {\n",
              "        text-align: right;\n",
              "    }\n",
              "</style>\n",
              "<table border=\"1\" class=\"dataframe\">\n",
              "  <thead>\n",
              "    <tr style=\"text-align: right;\">\n",
              "      <th></th>\n",
              "      <th>Spam</th>\n",
              "      <th>Total Punctuations</th>\n",
              "    </tr>\n",
              "  </thead>\n",
              "  <tbody>\n",
              "    <tr>\n",
              "      <th>1978</th>\n",
              "      <td>0.0</td>\n",
              "      <td>6.0</td>\n",
              "    </tr>\n",
              "    <tr>\n",
              "      <th>3989</th>\n",
              "      <td>1.0</td>\n",
              "      <td>3.0</td>\n",
              "    </tr>\n",
              "    <tr>\n",
              "      <th>3935</th>\n",
              "      <td>0.0</td>\n",
              "      <td>15.0</td>\n",
              "    </tr>\n",
              "    <tr>\n",
              "      <th>4078</th>\n",
              "      <td>0.0</td>\n",
              "      <td>1.0</td>\n",
              "    </tr>\n",
              "    <tr>\n",
              "      <th>4086</th>\n",
              "      <td>1.0</td>\n",
              "      <td>4.0</td>\n",
              "    </tr>\n",
              "  </tbody>\n",
              "</table>\n",
              "</div>"
            ],
            "text/plain": [
              "      Spam  Total Punctuations\n",
              "1978   0.0                 6.0\n",
              "3989   1.0                 3.0\n",
              "3935   0.0                15.0\n",
              "4078   0.0                 1.0\n",
              "4086   1.0                 4.0"
            ]
          },
          "metadata": {
            "tags": []
          },
          "execution_count": 29
        }
      ]
    },
    {
      "cell_type": "code",
      "metadata": {
        "colab": {
          "base_uri": "https://localhost:8080/",
          "height": 408
        },
        "id": "BMR8SAK7lGGl",
        "outputId": "c7e39c59-97e1-4ace-9b63-cac587271c16"
      },
      "source": [
        "# Plotting overlaid histogram \n",
        "\n",
        "df_ham_punc = df_punc[df_punc['Spam']==0]\n",
        "df_spam_punc = df_punc[df_punc['Spam']==1]\n",
        "\n",
        "plt.figure(figsize=(8,6))\n",
        "plt.hist(df_ham_punc['Total Punctuations'], bins=20, alpha=0.5, label=\"ham\", density = True)\n",
        "plt.hist(df_spam_punc['Total Punctuations'], bins=20, alpha=0.5, label=\"spam\", density = True)\n",
        "\n",
        "plt.xlim([0,40])\n",
        "plt.xlabel('Data',size = 14)\n",
        "plt.ylabel('Density',size = 14)\n",
        "plt.title('Total punctuations of the ham and spam message distribution')\n",
        "plt.legend()\n",
        "plt.show();"
      ],
      "execution_count": 30,
      "outputs": [
        {
          "output_type": "display_data",
          "data": {
            "image/png": "[encoded data removed]",
            "text/plain": [
              "<Figure size 576x432 with 1 Axes>"
            ]
          },
          "metadata": {
            "tags": [],
            "needs_background": "light"
          }
        }
      ]
    },
    {
      "cell_type": "code",
      "metadata": {
        "colab": {
          "base_uri": "https://localhost:8080/"
        },
        "id": "Xma1ASLkndR7",
        "outputId": "16518d96-36f6-48e0-b9fc-61bc60f0f91a"
      },
      "source": [
        "# Further description on the ham punctuation dataset\n",
        "\n",
        "df_ham_punc['Total Punctuations'].describe()"
      ],
      "execution_count": 31,
      "outputs": [
        {
          "output_type": "execute_result",
          "data": {
            "text/plain": [
              "count    3094.000000\n",
              "mean        4.252101\n",
              "std         4.825348\n",
              "min         0.000000\n",
              "25%         2.000000\n",
              "50%         3.000000\n",
              "75%         6.000000\n",
              "max       133.000000\n",
              "Name: Total Punctuations, dtype: float64"
            ]
          },
          "metadata": {
            "tags": []
          },
          "execution_count": 31
        }
      ]
    },
    {
      "cell_type": "code",
      "metadata": {
        "colab": {
          "base_uri": "https://localhost:8080/"
        },
        "id": "omTO3mK0n-c7",
        "outputId": "48b8cd4f-23bd-483c-c0a8-19d7996c24fa"
      },
      "source": [
        "# Further description on the spam punctuation dataset\n",
        "\n",
        "df_spam_punc['Total Punctuations'].describe()"
      ],
      "execution_count": 32,
      "outputs": [
        {
          "output_type": "execute_result",
          "data": {
            "text/plain": [
              "count    475.000000\n",
              "mean       4.141053\n",
              "std        4.355401\n",
              "min        0.000000\n",
              "25%        2.000000\n",
              "50%        3.000000\n",
              "75%        6.000000\n",
              "max       42.000000\n",
              "Name: Total Punctuations, dtype: float64"
            ]
          },
          "metadata": {
            "tags": []
          },
          "execution_count": 32
        }
      ]
    },
    {
      "cell_type": "code",
      "metadata": {
        "colab": {
          "base_uri": "https://localhost:8080/",
          "height": 34
        },
        "id": "FB_c1MoQoBr0",
        "outputId": "1e60256b-b77f-47e0-96b4-2f9fe7cbce86"
      },
      "source": [
        "# Testing whether overall Total Punctuation of ham message < Total Punctuation of spam message\n",
        "\n",
        "z_test(1,df_ham_punc['Total Punctuations'],df_spam_punc['Total Punctuations'])"
      ],
      "execution_count": 33,
      "outputs": [
        {
          "output_type": "display_data",
          "data": {
            "text/plain": [
              "True"
            ]
          },
          "metadata": {
            "tags": []
          }
        }
      ]
    },
    {
      "cell_type": "markdown",
      "metadata": {
        "id": "XtwOtjUmp1ye"
      },
      "source": [
        "Thus, overall, the total punctuations of ham message is less than that of spam message."
      ]
    },
    {
      "cell_type": "markdown",
      "metadata": {
        "id": "1UQfShVksTiK"
      },
      "source": [
        "### Word usage"
      ]
    },
    {
      "cell_type": "code",
      "metadata": {
        "colab": {
          "base_uri": "https://localhost:8080/"
        },
        "id": "53u8pLsyKE9K",
        "outputId": "db68b7cf-b9ef-400e-b021-10444e110138"
      },
      "source": [
        "import nltk\n",
        "import re\n",
        "nltk.download('punkt')\n",
        "nltk.download('stopwords')\n",
        "nltk.download('averaged_perceptron_tagger')\n",
        "nltk.download('wordnet')\n",
        "nltk.download('punkt')\n",
        "from nltk import sent_tokenize, word_tokenize\n",
        "from nltk.corpus import stopwords\n",
        "from string import punctuation\n",
        "from nltk import pos_tag\n",
        "from nltk.stem import WordNetLemmatizer"
      ],
      "execution_count": 34,
      "outputs": [
        {
          "output_type": "stream",
          "text": [
            "[nltk_data] Downloading package punkt to /root/nltk_data...\n",
            "[nltk_data]   Package punkt is already up-to-date!\n",
            "[nltk_data] Downloading package stopwords to /root/nltk_data...\n",
            "[nltk_data]   Package stopwords is already up-to-date!\n",
            "[nltk_data] Downloading package averaged_perceptron_tagger to\n",
            "[nltk_data]     /root/nltk_data...\n",
            "[nltk_data]   Package averaged_perceptron_tagger is already up-to-\n",
            "[nltk_data]       date!\n",
            "[nltk_data] Downloading package wordnet to /root/nltk_data...\n",
            "[nltk_data]   Package wordnet is already up-to-date!\n",
            "[nltk_data] Downloading package punkt to /root/nltk_data...\n",
            "[nltk_data]   Package punkt is already up-to-date!\n"
          ],
          "name": "stdout"
        }
      ]
    },
    {
      "cell_type": "markdown",
      "metadata": {
        "id": "1Qlio4yWJd1k"
      },
      "source": [
        "In this section, I want to find unique words that differentiate between ham message and spam message. To accomplish this, first, I want to do some data cleaning and NLP to the text message. The data cleaning process and NLP is described below:"
      ]
    },
    {
      "cell_type": "code",
      "metadata": {
        "id": "wHu1vIFnIxzm"
      },
      "source": [
        "#Remove Digits\n",
        "#This function will remove any digit for every entry in the list. \n",
        "def removeDigit(lst): \n",
        "    pattern = '[0-9]'\n",
        "    lst = [re.sub(pattern, '', i) for i in lst] \n",
        "    return lst\n",
        "\n",
        "#Combining stopwords (stop words are commonly used words that are ignored but still doesn't change the meaning of the sentence. By\n",
        "# removing them we can focus on the importahnt words instead.)\n",
        "# I found stopwords_json from internet (an addition to the english stop words). Since the text are only in english, only english stop words are used\n",
        "stopwords_json = {\"en\":[\"a\",\"\",\",.\",\"'ve\",\"ca\",\"\\\"\",\"'\",\"'s\",\"'m\",\"'d\",\"n't\",\"na\",\"gon\",\"'re\",\"tha\",\"''\",\"``\",\"a's\",\"able\",\"about\",\"above\",\"according\",\"accordingly\",\"across\",\"actually\",\"after\",\"afterwards\",\"again\",\"against\",\"ain't\",\"all\",\"allow\",\"allows\",\"almost\",\"alone\",\"along\",\"already\",\"also\",\"although\",\"always\",\"am\",\"among\",\"amongst\",\"an\",\"and\",\"another\",\"any\",\"anybody\",\"anyhow\",\"anyone\",\"anything\",\"anyway\",\"anyways\",\"anywhere\",\"apart\",\"appear\",\"appreciate\",\"appropriate\",\"are\",\"aren't\",\"around\",\"as\",\"aside\",\"ask\",\"asking\",\"associated\",\"at\",\"available\",\"away\",\"awfully\",\"b\",\"be\",\"became\",\"because\",\"become\",\"becomes\",\"becoming\",\"been\",\"before\",\"beforehand\",\"behind\",\"being\",\"believe\",\"below\",\"beside\",\"besides\",\"best\",\"better\",\"between\",\"beyond\",\"both\",\"brief\",\"but\",\"by\",\"c\",\"c'mon\",\"c's\",\"came\",\"can\",\"can't\",\"cannot\",\"cant\",\"cause\",\"causes\",\"certain\",\"certainly\",\"changes\",\"clearly\",\"co\",\"com\",\"come\",\"comes\",\"concerning\",\"consequently\",\"consider\",\"considering\",\"contain\",\"containing\",\"contains\",\"corresponding\",\"could\",\"couldn't\",\"course\",\"currently\",\"d\",\"definitely\",\"described\",\"despite\",\"did\",\"didn't\",\"different\",\"do\",\"does\",\"doesn't\",\"doing\",\"don't\",\"done\",\"down\",\"downwards\",\"during\",\"e\",\"each\",\"edu\",\"eg\",\"eight\",\"either\",\"else\",\"elsewhere\",\"enough\",\"entirely\",\"especially\",\"et\",\"etc\",\"even\",\"ever\",\"every\",\"everybody\",\"everyone\",\"everything\",\"everywhere\",\"ex\",\"exactly\",\"example\",\"except\",\"f\",\"far\",\"few\",\"fifth\",\"first\",\"five\",\"followed\",\"following\",\"follows\",\"for\",\"former\",\"formerly\",\"forth\",\"four\",\"from\",\"further\",\"furthermore\",\"g\",\"get\",\"gets\",\"getting\",\"given\",\"gives\",\"go\",\"goes\",\"going\",\"gone\",\"got\",\"gotten\",\"greetings\",\"h\",\"had\",\"hadn't\",\"happens\",\"hardly\",\"has\",\"hasn't\",\"have\",\"haven't\",\"having\",\"he\",\"he's\",\"hello\",\"help\",\"hence\",\"her\",\"here\",\"here's\",\"hereafter\",\"hereby\",\"herein\",\"hereupon\",\"hers\",\"herself\",\"hi\",\"him\",\"himself\",\"his\",\"hither\",\"hopefully\",\"how\",\"howbeit\",\"however\",\"i\",\"i'd\",\"i'll\",\"i'm\",\"i've\",\"ie\",\"if\",\"ignored\",\"immediate\",\"in\",\"inasmuch\",\"inc\",\"indeed\",\"indicate\",\"indicated\",\"indicates\",\"inner\",\"insofar\",\"instead\",\"into\",\"inward\",\"is\",\"isn't\",\"it\",\"it'd\",\"it'll\",\"it's\",\"its\",\"itself\",\"j\",\"just\",\"k\",\"keep\",\"keeps\",\"kept\",\"know\",\"known\",\"knows\",\"l\",\"last\",\"lately\",\"later\",\"latter\",\"latterly\",\"least\",\"less\",\"lest\",\"let\",\"let's\",\"like\",\"liked\",\"likely\",\"little\",\"look\",\"looking\",\"looks\",\"ltd\",\"m\",\"mainly\",\"many\",\"may\",\"maybe\",\"me\",\"mean\",\"meanwhile\",\"merely\",\"might\",\"more\",\"moreover\",\"most\",\"mostly\",\"much\",\"must\",\"my\",\"myself\",\"n\",\"name\",\"namely\",\"nd\",\"near\",\"nearly\",\"necessary\",\"need\",\"needs\",\"neither\",\"never\",\"nevertheless\",\"new\",\"next\",\"nine\",\"no\",\"nobody\",\"non\",\"none\",\"noone\",\"nor\",\"normally\",\"not\",\"nothing\",\"novel\",\"now\",\"nowhere\",\"o\",\"obviously\",\"of\",\"off\",\"often\",\"oh\",\"ok\",\"okay\",\"old\",\"on\",\"once\",\"one\",\"ones\",\"only\",\"onto\",\"or\",\"other\",\"others\",\"otherwise\",\"ought\",\"our\",\"ours\",\"ourselves\",\"out\",\"outside\",\"over\",\"overall\",\"own\",\"p\",\"particular\",\"particularly\",\"per\",\"perhaps\",\"placed\",\"please\",\"plus\",\"possible\",\"presumably\",\"probably\",\"provides\",\"q\",\"que\",\"quite\",\"qv\",\"r\",\"rather\",\"rd\",\"re\",\"really\",\"reasonably\",\"regarding\",\"regardless\",\"regards\",\"relatively\",\"respectively\",\"right\",\"s\",\"said\",\"same\",\"saw\",\"say\",\"saying\",\"says\",\"second\",\"secondly\",\"see\",\"seeing\",\"seem\",\"seemed\",\"seeming\",\"seems\",\"seen\",\"self\",\"selves\",\"sensible\",\"sent\",\"serious\",\"seriously\",\"seven\",\"several\",\"shall\",\"she\",\"should\",\"shouldn't\",\"since\",\"six\",\"so\",\"some\",\"somebody\",\"somehow\",\"someone\",\"something\",\"sometime\",\"sometimes\",\"somewhat\",\"somewhere\",\"soon\",\"sorry\",\"specified\",\"specify\",\"specifying\",\"still\",\"sub\",\"such\",\"sup\",\"sure\",\"t\",\"t's\",\"take\",\"taken\",\"tell\",\"tends\",\"th\",\"than\",\"thank\",\"thanks\",\"thanx\",\"that\",\"that's\",\"thats\",\"the\",\"their\",\"theirs\",\"them\",\"themselves\",\"then\",\"thence\",\"there\",\"there's\",\"thereafter\",\"thereby\",\"therefore\",\"therein\",\"theres\",\"thereupon\",\"these\",\"they\",\"they'd\",\"they'll\",\"they're\",\"they've\",\"think\",\"third\",\"this\",\"thorough\",\"thoroughly\",\"those\",\"though\",\"three\",\"through\",\"throughout\",\"thru\",\"thus\",\"to\",\"together\",\"too\",\"took\",\"toward\",\"towards\",\"tried\",\"tries\",\"truly\",\"try\",\"trying\",\"twice\",\"two\",\"u\",\"un\",\"under\",\"unfortunately\",\"unless\",\"unlikely\",\"until\",\"unto\",\"up\",\"upon\",\"us\",\"use\",\"used\",\"useful\",\"uses\",\"using\",\"usually\",\"uucp\",\"v\",\"value\",\"various\",\"very\",\"via\",\"viz\",\"vs\",\"w\",\"want\",\"wants\",\"was\",\"wasn't\",\"way\",\"we\",\"we'd\",\"we'll\",\"we're\",\"we've\",\"welcome\",\"well\",\"went\",\"were\",\"weren't\",\"what\",\"what's\",\"whatever\",\"when\",\"whence\",\"whenever\",\"where\",\"where's\",\"whereafter\",\"whereas\",\"whereby\",\"wherein\",\"whereupon\",\"wherever\",\"whether\",\"which\",\"while\",\"whither\",\"who\",\"who's\",\"whoever\",\"whole\",\"whom\",\"whose\",\"why\",\"will\",\"willing\",\"wish\",\"with\",\"within\",\"without\",\"won't\",\"wonder\",\"would\",\"wouldn't\",\"x\",\"y\",\"yes\",\"yet\",\"you\",\"you'd\",\"you'll\",\"you're\",\"you've\",\"your\",\"yours\",\"yourself\",\"yourselves\",\"z\",\"zero\"]}\n",
        "stopwords_json_en = set(stopwords_json['en'])\n",
        "stopwords_nltk_en = set(stopwords.words('english'))\n",
        "stopwords_punct = set(punctuation)\n",
        "# Combine the stopwords.\n",
        "stoplist_combined = set.union(stopwords_json_en, stopwords_nltk_en, stopwords_punct)\n",
        "\n",
        "#Lemmatization function (this function give part of speech (POS) tag to each word. Example: mother (noun - NN))\n",
        "def penn2morphy(penntag):\n",
        "    \"\"\" Converts Penn Treebank tags to WordNet. \"\"\"\n",
        "    morphy_tag = {'NN':'n', 'JJ':'a',\n",
        "                  'VB':'v', 'RB':'r'}\n",
        "    try:\n",
        "        return morphy_tag[penntag[:2]]\n",
        "    except:\n",
        "        return 'n' \n",
        "\n",
        "#Function that tokenize and lemmatize the text (processing the raw text)\n",
        "def preprocess_text(text):\n",
        "  #Tokenizing the text (divide into tokens). Example: \"My name is William\" into [\"My\",\"name\",\"is\",\"William\"]\n",
        "  wordTokenization = word_tokenize(text)\n",
        "  #Change all capital letter to lower case\n",
        "  wordTokenization = list(map(str.lower, wordTokenization))\n",
        "  #remove all digits\n",
        "  wordTokenization = removeDigit(wordTokenization)\n",
        "  #remove all entry of the list that are part of the combined stop words\n",
        "  wordTokenization = [word for word in wordTokenization if word not in stoplist_combined]\n",
        "  #Lemmatization is the process of changing words into their root form. \n",
        "  wnl = WordNetLemmatizer()\n",
        "  wordLemmatize = [wnl.lemmatize(word.lower(), pos = penn2morphy(tag)) for word, tag in pos_tag(wordTokenization)] \n",
        "  #Last cleaning process (remove punctuation and digit)\n",
        "  wordLemmatize = [word for word in wordLemmatize if word not in stoplist_combined and not word.isdigit()]\n",
        "  wordLemmatize = [''.join(c for c in s if c not in punctuation) for s in wordLemmatize]\n",
        "  wordLemmatize = [s for s in wordLemmatize if s]\n",
        "  wordLemmatize = [word for word in wordLemmatize if word.isalpha()]\n",
        "  return wordLemmatize"
      ],
      "execution_count": 35,
      "outputs": []
    },
    {
      "cell_type": "markdown",
      "metadata": {
        "id": "yF0yaHgHKO4L"
      },
      "source": [
        "Then, I proceed into cleaning my dataset."
      ]
    },
    {
      "cell_type": "code",
      "metadata": {
        "id": "nfq_gmULKjj8"
      },
      "source": [
        "# Storing the 'Text' column into an array\n",
        "\n",
        "df_ham = train_data[train_data['Spam']==0]['Text'].values\n",
        "df_spam = train_data[train_data['Spam']==1]['Text'].values"
      ],
      "execution_count": 36,
      "outputs": []
    },
    {
      "cell_type": "code",
      "metadata": {
        "id": "oRVcZ6GTJ34V"
      },
      "source": [
        "# Cleaning the text data\n",
        "\n",
        "ham_cleaned=[]\n",
        "spam_cleaned=[]\n",
        "\n",
        "for i in range(len(df_ham)):\n",
        "  cleaning=preprocess_text(df_ham[i])\n",
        "  joining=' '.join(cleaning)\n",
        "  ham_cleaned=np.append(ham_cleaned, joining)\n",
        "\n",
        "for i in range(len(df_spam)):\n",
        "  cleaning=preprocess_text(df_spam[i])\n",
        "  joining=' '.join(cleaning)\n",
        "  spam_cleaned=np.append(spam_cleaned, joining)\n",
        "\n",
        "ham_join_cleaned=' '.join(ham_cleaned)\n",
        "spam_join_cleaned=' '.join(spam_cleaned)\n"
      ],
      "execution_count": 37,
      "outputs": []
    },
    {
      "cell_type": "markdown",
      "metadata": {
        "id": "zT4kHWhTQjIj"
      },
      "source": [
        "After that, we can find top 50 unique words that differentiate between ham message and spam message."
      ]
    },
    {
      "cell_type": "code",
      "metadata": {
        "id": "NSO9E5IKQwge"
      },
      "source": [
        "def df_groupby(text):\n",
        "    \"\"\" Input is the joined text after splitting (ex: [train_ham_join_cleaned.split()]).\n",
        "    The output will be the top 100 most used words displayed in a dataframe\n",
        "    \"\"\"\n",
        "    df = pd.DataFrame(text).transpose()\n",
        "    df.columns = ['words']\n",
        "    return df.groupby('words').size().sort_values(ascending = False).head(100)"
      ],
      "execution_count": 38,
      "outputs": []
    },
    {
      "cell_type": "code",
      "metadata": {
        "id": "u_Ti7p0FLIE-",
        "colab": {
          "base_uri": "https://localhost:8080/"
        },
        "outputId": "5d4fdb5a-1397-4f38-a6c9-e11dd5915d30"
      },
      "source": [
        "# Listing top 100 words used in ham email\n",
        "ham_words = df_groupby([ham_join_cleaned.split()])\n",
        "\n",
        "# Listing top 100 words used in spam email\n",
        "spam_words = df_groupby([spam_join_cleaned.split()])\n",
        "\n",
        "ham_words = set(ham_words.reset_index()['words'])\n",
        "spam_words = set(spam_words.reset_index()['words'])\n",
        "\n",
        "print('------------------------------------------------')\n",
        "print(\"unique words that differentiates the spam email with ham email:\")\n",
        "print('------------------------------------------------')\n",
        "print(spam_words.difference(ham_words))"
      ],
      "execution_count": 39,
      "outputs": [
        {
          "output_type": "stream",
          "text": [
            "------------------------------------------------\n",
            "unique words that differentiates the spam email with ham email:\n",
            "------------------------------------------------\n",
            "{'txt', 'double', 'hr', 'mobileupd', 'collection', 'uk', 'sae', 'live', 'date', 'ringtone', 'chat', 'pound', 'top', 'pic', 'gift', 'nokia', 'camera', 'cost', 'rate', 'http', 'apply', 'delivery', 'min', 'voucher', 'charge', 'pmin', 'contact', 'word', 'network', 'win', 'weekly', 'select', 'land', 'await', 'holiday', 'music', 'ppm', 'award', 'video', 'enter', 'po', 'urgent', 'orange', 'game', 'yr', 'match', 'sm', 'prize', 'poly', 'mobile', 'receive', 'price', 'mob', 'draw', 'box', 'pmsg', 'end', 'show', 'mths', 'landline', 'pobox', 'valid', 'cash', 'customer', 'service', 'attempt', 'claim', 'colour', 'st', 'guarantee', 'bonus', 'code', 'final', 'update', 'line', 'collect', 'offer', 'chance', 'entry', 'tone'}\n"
          ],
          "name": "stdout"
        }
      ]
    },
    {
      "cell_type": "code",
      "metadata": {
        "id": "QcZRjsRWS4Ke"
      },
      "source": [
        "# Storing the unique words\n",
        "words = spam_words.difference(ham_words)"
      ],
      "execution_count": 40,
      "outputs": []
    },
    {
      "cell_type": "markdown",
      "metadata": {
        "id": "ZBZFsKgPRfIW"
      },
      "source": [
        "# **Modeling**"
      ]
    },
    {
      "cell_type": "markdown",
      "metadata": {
        "id": "anMk5FmSViyD"
      },
      "source": [
        "## Logistic Regression"
      ]
    },
    {
      "cell_type": "markdown",
      "metadata": {
        "id": "fClxyprDSEsb"
      },
      "source": [
        "After we understand the text from the training data. We can start modelling the training data. I will use Logistic Regression in the modeling process. Note that the Logistic Regression function already use $L_2$ loss, which avoid overfitting due to huge amount of features."
      ]
    },
    {
      "cell_type": "markdown",
      "metadata": {
        "id": "ebPAfxI6TLu2"
      },
      "source": [
        "I will use <code> words_in_texts </code> function to find whether the text message contains the list of words. "
      ]
    },
    {
      "cell_type": "code",
      "metadata": {
        "id": "l5cdXMv1ROEA"
      },
      "source": [
        "def words_in_texts(words, texts):\n",
        "    '''\n",
        "    Args:\n",
        "        words (list): words to find\n",
        "        texts (Series): strings to search in\n",
        "    \n",
        "    Returns:\n",
        "        NumPy array of 0s and 1s with shape (n, p) where n is the\n",
        "        number of texts and p is the number of words.\n",
        "    '''\n",
        "    indicator_array = 1 * np.array([texts.str.contains(word) for word in words]).T\n",
        "    return indicator_array"
      ],
      "execution_count": 41,
      "outputs": []
    },
    {
      "cell_type": "code",
      "metadata": {
        "colab": {
          "base_uri": "https://localhost:8080/"
        },
        "id": "fEnAOZwnSyjQ",
        "outputId": "feccf945-5dde-4928-88f4-ea5689b1d552"
      },
      "source": [
        "X_train = train_data.iloc[:,2:]\n",
        "train_array = words_in_texts(words,train_data['Text'])\n",
        "X_train = np.hstack((X_train,train_array))\n",
        "print(\"Total number of features is\", len(X_train[0]))\n",
        "X_train"
      ],
      "execution_count": 42,
      "outputs": [
        {
          "output_type": "stream",
          "text": [
            "Total number of features is 113\n"
          ],
          "name": "stdout"
        },
        {
          "output_type": "execute_result",
          "data": {
            "text/plain": [
              "array([[ 83,   0,   0, ...,   0,   0,   0],\n",
              "       [137,   0,   0, ...,   0,   0,   0],\n",
              "       [ 46,   0,   0, ...,   1,   0,   0],\n",
              "       ...,\n",
              "       [ 45,   0,   0, ...,   0,   0,   0],\n",
              "       [ 26,   0,   0, ...,   0,   0,   0],\n",
              "       [ 35,   0,   0, ...,   0,   0,   0]])"
            ]
          },
          "metadata": {
            "tags": []
          },
          "execution_count": 42
        }
      ]
    },
    {
      "cell_type": "code",
      "metadata": {
        "colab": {
          "base_uri": "https://localhost:8080/"
        },
        "id": "qVoGnLbZTlcQ",
        "outputId": "e7c5664c-8af7-4037-c81e-106efc7cd5ef"
      },
      "source": [
        "from sklearn.linear_model import LogisticRegression\n",
        "\n",
        "model = LogisticRegression(solver = 'lbfgs', max_iter = 1000)\n",
        "model.fit(X_train, y_train)\n",
        "\n",
        "training_accuracy = model.score(X_train, y_train)\n",
        "print(\"Training Accuracy: \", training_accuracy)"
      ],
      "execution_count": 43,
      "outputs": [
        {
          "output_type": "stream",
          "text": [
            "Training Accuracy:  0.96881310298407\n"
          ],
          "name": "stdout"
        }
      ]
    },
    {
      "cell_type": "code",
      "metadata": {
        "colab": {
          "base_uri": "https://localhost:8080/",
          "height": 295
        },
        "id": "rsx-CSrUWKaK",
        "outputId": "47403362-2e27-47e9-b088-b2493694fcbc"
      },
      "source": [
        "# Plotting ROC curve\n",
        "\n",
        "from sklearn.metrics import roc_curve\n",
        "\n",
        "fpr, tpr, threshold = roc_curve(y_train, \n",
        "                               model.predict_proba(X_train)[:, 1])\n",
        "\n",
        "\n",
        "plt.plot(fpr, tpr)\n",
        "plt.xlabel('False Positive Rate')\n",
        "plt.ylabel('True Positive Rate')\n",
        "plt.title('ROC curve');"
      ],
      "execution_count": 44,
      "outputs": [
        {
          "output_type": "display_data",
          "data": {
            "image/png": "[encoded data removed]",
            "text/plain": [
              "<Figure size 432x288 with 1 Axes>"
            ]
          },
          "metadata": {
            "tags": [],
            "needs_background": "light"
          }
        }
      ]
    },
    {
      "cell_type": "markdown",
      "metadata": {
        "id": "-MhFLBDfUwuB"
      },
      "source": [
        "It seems the training accuracy is really high, this means that the model fits to the training data. "
      ]
    },
    {
      "cell_type": "markdown",
      "metadata": {
        "id": "u30wj8BPYt23"
      },
      "source": [
        "## Prediction on test data"
      ]
    },
    {
      "cell_type": "markdown",
      "metadata": {
        "id": "Z-thIh4JYwU-"
      },
      "source": [
        "Next, I will fit my model into my training data. The function below will repeat the same feature engineering process as I did in the training data."
      ]
    },
    {
      "cell_type": "code",
      "metadata": {
        "colab": {
          "base_uri": "https://localhost:8080/",
          "height": 204
        },
        "id": "VTAca8F1ZI7E",
        "outputId": "1c9a7f7c-ed69-4b39-a58b-9bda3a0e1c3b"
      },
      "source": [
        "test_data = pd.concat([X_test,y_test], axis = 1)\n",
        "test_data.head()"
      ],
      "execution_count": 45,
      "outputs": [
        {
          "output_type": "execute_result",
          "data": {
            "text/html": [
              "<div>\n",
              "<style scoped>\n",
              "    .dataframe tbody tr th:only-of-type {\n",
              "        vertical-align: middle;\n",
              "    }\n",
              "\n",
              "    .dataframe tbody tr th {\n",
              "        vertical-align: top;\n",
              "    }\n",
              "\n",
              "    .dataframe thead th {\n",
              "        text-align: right;\n",
              "    }\n",
              "</style>\n",
              "<table border=\"1\" class=\"dataframe\">\n",
              "  <thead>\n",
              "    <tr style=\"text-align: right;\">\n",
              "      <th></th>\n",
              "      <th>Text</th>\n",
              "      <th>Spam</th>\n",
              "    </tr>\n",
              "  </thead>\n",
              "  <tbody>\n",
              "    <tr>\n",
              "      <th>3245</th>\n",
              "      <td>Funny fact Nobody teaches volcanoes 2 erupt, t...</td>\n",
              "      <td>0</td>\n",
              "    </tr>\n",
              "    <tr>\n",
              "      <th>944</th>\n",
              "      <td>I sent my scores to sophas and i had to do sec...</td>\n",
              "      <td>0</td>\n",
              "    </tr>\n",
              "    <tr>\n",
              "      <th>1044</th>\n",
              "      <td>We know someone who you know that fancies you....</td>\n",
              "      <td>1</td>\n",
              "    </tr>\n",
              "    <tr>\n",
              "      <th>2484</th>\n",
              "      <td>Only if you promise your getting out as SOON a...</td>\n",
              "      <td>0</td>\n",
              "    </tr>\n",
              "    <tr>\n",
              "      <th>812</th>\n",
              "      <td>Congratulations ur awarded either å£500 of CD ...</td>\n",
              "      <td>1</td>\n",
              "    </tr>\n",
              "  </tbody>\n",
              "</table>\n",
              "</div>"
            ],
            "text/plain": [
              "                                                   Text  Spam\n",
              "3245  Funny fact Nobody teaches volcanoes 2 erupt, t...     0\n",
              "944   I sent my scores to sophas and i had to do sec...     0\n",
              "1044  We know someone who you know that fancies you....     1\n",
              "2484  Only if you promise your getting out as SOON a...     0\n",
              "812   Congratulations ur awarded either å£500 of CD ...     1"
            ]
          },
          "metadata": {
            "tags": []
          },
          "execution_count": 45
        }
      ]
    },
    {
      "cell_type": "code",
      "metadata": {
        "id": "hYYB7RDHXehV"
      },
      "source": [
        "def process_test(test_data):\n",
        "  \"\"\"\n",
        "  Input: The test_data stored above\n",
        "  Output: design matrix of the test_data\n",
        "  \"\"\"\n",
        "  # Computing the length of the text\n",
        "  test_data['Length'] = test_data['Text'].str.len()\n",
        "\n",
        "  # Computing the number of punctuations in the text\n",
        "  for i in range(len(list_punctuation)):\n",
        "    test_data[list_punctuation[i]] = test_data['Text'].str.count(\"\\\\\"+list_punctuation[i])\n",
        " \n",
        "  # Further feature engineering\n",
        "  X_test = test_data.iloc[:,2:]\n",
        "  test_array = words_in_texts(words,test_data['Text'])\n",
        "  X_test = np.hstack((X_test,test_array))\n",
        "  return X_test"
      ],
      "execution_count": 53,
      "outputs": []
    },
    {
      "cell_type": "code",
      "metadata": {
        "id": "CgLPjKIjatgU"
      },
      "source": [
        "# Repeating the feature engineering process in the test set\n",
        "\n",
        "X_test = process_test(test_data)"
      ],
      "execution_count": 54,
      "outputs": []
    },
    {
      "cell_type": "markdown",
      "metadata": {
        "id": "GX1qhBfMcTVv"
      },
      "source": [
        "Next, we will access the test accuracy using the model."
      ]
    },
    {
      "cell_type": "code",
      "metadata": {
        "colab": {
          "base_uri": "https://localhost:8080/"
        },
        "id": "7WHsMqpFaxjo",
        "outputId": "318dadf8-3807-4794-c286-02b23c1879c5"
      },
      "source": [
        "# prediction on test set\n",
        "y_pred=model.predict(X_test)\n",
        "\n",
        "# Import scikit-learn metrics module for accuracy calculation\n",
        "from sklearn import metrics\n",
        "\n",
        "# Model Accuracy, how often is the classifier correct?\n",
        "print(\"Test Accuracy:\",metrics.accuracy_score(y_test, y_pred))"
      ],
      "execution_count": 58,
      "outputs": [
        {
          "output_type": "stream",
          "text": [
            "Test Accuracy: 0.9542600896860987\n"
          ],
          "name": "stdout"
        }
      ]
    },
    {
      "cell_type": "code",
      "metadata": {
        "colab": {
          "base_uri": "https://localhost:8080/",
          "height": 295
        },
        "id": "zcHFkxiscd1D",
        "outputId": "e4c259f0-56d6-42c7-ff9b-fe036f881c8d"
      },
      "source": [
        "# Plotting ROC curve\n",
        "\n",
        "from sklearn.metrics import roc_curve\n",
        "\n",
        "fpr, tpr, threshold = roc_curve(y_test, \n",
        "                               model.predict_proba(X_test)[:, 1])\n",
        "\n",
        "\n",
        "plt.plot(fpr, tpr)\n",
        "plt.xlabel('False Positive Rate')\n",
        "plt.ylabel('True Positive Rate')\n",
        "plt.title('ROC curve');"
      ],
      "execution_count": 57,
      "outputs": [
        {
          "output_type": "display_data",
          "data": {
            "image/png": "[encoded data removed]",
            "text/plain": [
              "<Figure size 432x288 with 1 Axes>"
            ]
          },
          "metadata": {
            "tags": [],
            "needs_background": "light"
          }
        }
      ]
    },
    {
      "cell_type": "markdown",
      "metadata": {
        "id": "FrOcs6I-c32v"
      },
      "source": [
        "The test accuracy reached up to 95.4%, which is really high. This means that our model is highly generalizable."
      ]
    }
  ]
}